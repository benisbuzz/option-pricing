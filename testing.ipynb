{
 "cells": [
  {
   "cell_type": "code",
   "execution_count": 57,
   "metadata": {},
   "outputs": [],
   "source": [
    "import main as bs\n",
    "import yfinance as yf\n",
    "from scipy.stats import normaltest\n",
    "from matplotlib import pyplot as plt\n",
    "import pandas as pd"
   ]
  },
  {
   "cell_type": "code",
   "execution_count": 44,
   "metadata": {},
   "outputs": [
    {
     "name": "stdout",
     "output_type": "stream",
     "text": [
      "[*********************100%%**********************]  1 of 1 completed\n"
     ]
    }
   ],
   "source": [
    "stock = yf.download(\"^SPX\")[\"Close\"]"
   ]
  },
  {
   "cell_type": "code",
   "execution_count": 22,
   "metadata": {},
   "outputs": [],
   "source": [
    "option = bs.Option(put_call=\"C\", spot=120, strike=100, expiration_date=\"2023-12-01\", volatility=0.1)"
   ]
  },
  {
   "cell_type": "code",
   "execution_count": 23,
   "metadata": {},
   "outputs": [
    {
     "data": {
      "text/plain": [
       "Price          12.604513\n",
       "Implied Vol     0.100000\n",
       "Delta           0.600286\n",
       "Gamma           0.232438\n",
       "Theta          -0.200161\n",
       "Vega            0.064191\n",
       "Rho             0.011397\n",
       "dtype: float64"
      ]
     },
     "execution_count": 23,
     "metadata": {},
     "output_type": "execute_result"
    }
   ],
   "source": [
    "option.option_df"
   ]
  },
  {
   "cell_type": "code",
   "execution_count": 58,
   "metadata": {},
   "outputs": [],
   "source": [
    "pvalues = []\n",
    "dates = []\n",
    "for series in stock.rolling(365):\n",
    "    if len(series) < 365:\n",
    "        continue\n",
    "    dates.append(series.index[-1])\n",
    "    pvalues.append(normaltest(series.pct_change().dropna()).pvalue)\n",
    "pvalue_series = pd.Series(pvalues, dates)"
   ]
  },
  {
   "cell_type": "code",
   "execution_count": 62,
   "metadata": {},
   "outputs": [
    {
     "data": {
      "text/plain": [
       "1931"
      ]
     },
     "execution_count": 62,
     "metadata": {},
     "output_type": "execute_result"
    }
   ],
   "source": [
    "len([(date, value) for date, value in pvalue_series.items() if value > 0.1])"
   ]
  },
  {
   "cell_type": "code",
   "execution_count": 61,
   "metadata": {},
   "outputs": [
    {
     "data": {
      "text/plain": [
       "23726"
      ]
     },
     "execution_count": 61,
     "metadata": {},
     "output_type": "execute_result"
    }
   ],
   "source": [
    "len(pvalue_series)"
   ]
  },
  {
   "cell_type": "code",
   "execution_count": 63,
   "metadata": {},
   "outputs": [
    {
     "data": {
      "text/plain": [
       "1929-06-14    3.130741e-12\n",
       "1929-06-17    5.457981e-12\n",
       "1929-06-18    4.923787e-12\n",
       "1929-06-19    3.680931e-12\n",
       "1929-06-20    3.687294e-12\n",
       "                  ...     \n",
       "2023-11-16    7.410855e-05\n",
       "2023-11-17    6.897701e-05\n",
       "2023-11-20    4.976370e-05\n",
       "2023-11-21    2.838343e-05\n",
       "2023-11-22    1.482839e-05\n",
       "Length: 23726, dtype: float64"
      ]
     },
     "execution_count": 63,
     "metadata": {},
     "output_type": "execute_result"
    }
   ],
   "source": [
    "pvalue_series"
   ]
  },
  {
   "cell_type": "code",
   "execution_count": null,
   "metadata": {},
   "outputs": [],
   "source": []
  }
 ],
 "metadata": {
  "kernelspec": {
   "display_name": ".venv",
   "language": "python",
   "name": "python3"
  },
  "language_info": {
   "codemirror_mode": {
    "name": "ipython",
    "version": 3
   },
   "file_extension": ".py",
   "mimetype": "text/x-python",
   "name": "python",
   "nbconvert_exporter": "python",
   "pygments_lexer": "ipython3",
   "version": "3.10.1"
  }
 },
 "nbformat": 4,
 "nbformat_minor": 2
}
